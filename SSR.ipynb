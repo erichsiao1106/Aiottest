{
  "nbformat": 4,
  "nbformat_minor": 0,
  "metadata": {
    "colab": {
      "name": "SSR.ipynb",
      "provenance": [],
      "authorship_tag": "ABX9TyM8OS4fIu1Wsn9+/BMtX7o4",
      "include_colab_link": true
    },
    "kernelspec": {
      "name": "python3",
      "display_name": "Python 3"
    }
  },
  "cells": [
    {
      "cell_type": "markdown",
      "metadata": {
        "id": "view-in-github",
        "colab_type": "text"
      },
      "source": [
        "<a href=\"https://colab.research.google.com/github/erichsiao1106/Aiottest/blob/master/SSR.ipynb\" target=\"_parent\"><img src=\"https://colab.research.google.com/assets/colab-badge.svg\" alt=\"Open In Colab\"/></a>"
      ]
    },
    {
      "cell_type": "code",
      "metadata": {
        "id": "4T9RvJO5CIDa",
        "colab_type": "code",
        "colab": {
          "base_uri": "https://localhost:8080/",
          "height": 128
        },
        "outputId": "a3670bf9-92cb-4608-9a4f-c4bcc1c2e83e"
      },
      "source": [
        "from google.colab import drive\n",
        "drive.mount('/content/drive')"
      ],
      "execution_count": 1,
      "outputs": [
        {
          "output_type": "stream",
          "text": [
            "Go to this URL in a browser: https://accounts.google.com/o/oauth2/auth?client_id=947318989803-6bn6qk8qdgf4n4g3pfee6491hc0brc4i.apps.googleusercontent.com&redirect_uri=urn%3aietf%3awg%3aoauth%3a2.0%3aoob&scope=email%20https%3a%2f%2fwww.googleapis.com%2fauth%2fdocs.test%20https%3a%2f%2fwww.googleapis.com%2fauth%2fdrive%20https%3a%2f%2fwww.googleapis.com%2fauth%2fdrive.photos.readonly%20https%3a%2f%2fwww.googleapis.com%2fauth%2fpeopleapi.readonly&response_type=code\n",
            "\n",
            "Enter your authorization code:\n",
            "··········\n",
            "Mounted at /content/drive\n"
          ],
          "name": "stdout"
        }
      ]
    },
    {
      "cell_type": "code",
      "metadata": {
        "id": "J-yCGxywCxDF",
        "colab_type": "code",
        "colab": {}
      },
      "source": [
        "! ln -s  /content/drive/My\\ Drive/SSR-Net-master ."
      ],
      "execution_count": 2,
      "outputs": []
    },
    {
      "cell_type": "code",
      "metadata": {
        "id": "nnIir3nJDCmM",
        "colab_type": "code",
        "colab": {
          "base_uri": "https://localhost:8080/",
          "height": 128
        },
        "outputId": "c09ceae7-ad67-455e-d9eb-46cacf5240d9"
      },
      "source": [
        "!pip install pygame"
      ],
      "execution_count": 3,
      "outputs": [
        {
          "output_type": "stream",
          "text": [
            "Collecting pygame\n",
            "\u001b[?25l  Downloading https://files.pythonhosted.org/packages/8e/24/ede6428359f913ed9cd1643dd5533aefeb5a2699cc95bea089de50ead586/pygame-1.9.6-cp36-cp36m-manylinux1_x86_64.whl (11.4MB)\n",
            "\u001b[K     |████████████████████████████████| 11.4MB 355kB/s \n",
            "\u001b[?25hInstalling collected packages: pygame\n",
            "Successfully installed pygame-1.9.6\n"
          ],
          "name": "stdout"
        }
      ]
    },
    {
      "cell_type": "code",
      "metadata": {
        "id": "x5cR11T8DrcY",
        "colab_type": "code",
        "colab": {
          "base_uri": "https://localhost:8080/",
          "height": 235
        },
        "outputId": "ac4cb987-0324-43d4-ae7c-d7055efacbf5"
      },
      "source": [
        "!pip install mtcnn"
      ],
      "execution_count": 4,
      "outputs": [
        {
          "output_type": "stream",
          "text": [
            "Collecting mtcnn\n",
            "\u001b[?25l  Downloading https://files.pythonhosted.org/packages/67/43/abee91792797c609c1bf30f1112117f7a87a713ebaa6ec5201d5555a73ef/mtcnn-0.1.0-py3-none-any.whl (2.3MB)\n",
            "\u001b[K     |████████████████████████████████| 2.3MB 3.4MB/s \n",
            "\u001b[?25hRequirement already satisfied: opencv-python>=4.1.0 in /usr/local/lib/python3.6/dist-packages (from mtcnn) (4.1.2.30)\n",
            "Requirement already satisfied: keras>=2.0.0 in /usr/local/lib/python3.6/dist-packages (from mtcnn) (2.4.3)\n",
            "Requirement already satisfied: numpy>=1.11.3 in /usr/local/lib/python3.6/dist-packages (from opencv-python>=4.1.0->mtcnn) (1.18.5)\n",
            "Requirement already satisfied: pyyaml in /usr/local/lib/python3.6/dist-packages (from keras>=2.0.0->mtcnn) (3.13)\n",
            "Requirement already satisfied: scipy>=0.14 in /usr/local/lib/python3.6/dist-packages (from keras>=2.0.0->mtcnn) (1.4.1)\n",
            "Requirement already satisfied: h5py in /usr/local/lib/python3.6/dist-packages (from keras>=2.0.0->mtcnn) (2.10.0)\n",
            "Requirement already satisfied: six in /usr/local/lib/python3.6/dist-packages (from h5py->keras>=2.0.0->mtcnn) (1.15.0)\n",
            "Installing collected packages: mtcnn\n",
            "Successfully installed mtcnn-0.1.0\n"
          ],
          "name": "stdout"
        }
      ]
    },
    {
      "cell_type": "code",
      "metadata": {
        "id": "9Oo4x0a_Dz9u",
        "colab_type": "code",
        "colab": {
          "base_uri": "https://localhost:8080/",
          "height": 126
        },
        "outputId": "30641628-b85d-428d-c0bd-f8a96c3419d3"
      },
      "source": [
        "! pip install moviepy"
      ],
      "execution_count": 6,
      "outputs": [
        {
          "output_type": "stream",
          "text": [
            "Requirement already satisfied: moviepy in /usr/local/lib/python3.6/dist-packages (0.2.3.5)\n",
            "Requirement already satisfied: tqdm<5.0,>=4.11.2 in /usr/local/lib/python3.6/dist-packages (from moviepy) (4.41.1)\n",
            "Requirement already satisfied: numpy in /usr/local/lib/python3.6/dist-packages (from moviepy) (1.18.5)\n",
            "Requirement already satisfied: decorator<5.0,>=4.0.2 in /usr/local/lib/python3.6/dist-packages (from moviepy) (4.4.2)\n",
            "Requirement already satisfied: imageio<3.0,>=2.1.2 in /usr/local/lib/python3.6/dist-packages (from moviepy) (2.4.1)\n",
            "Requirement already satisfied: pillow in /usr/local/lib/python3.6/dist-packages (from imageio<3.0,>=2.1.2->moviepy) (7.0.0)\n"
          ],
          "name": "stdout"
        }
      ]
    },
    {
      "cell_type": "code",
      "metadata": {
        "id": "KHVBBC0-EP2S",
        "colab_type": "code",
        "colab": {
          "base_uri": "https://localhost:8080/",
          "height": 108
        },
        "outputId": "7a9137ac-ef43-4890-e6f3-d30a936d5404"
      },
      "source": [
        "!pip install requests"
      ],
      "execution_count": 9,
      "outputs": [
        {
          "output_type": "stream",
          "text": [
            "Requirement already satisfied: requests in /usr/local/lib/python3.6/dist-packages (2.23.0)\n",
            "Requirement already satisfied: urllib3!=1.25.0,!=1.25.1,<1.26,>=1.21.1 in /usr/local/lib/python3.6/dist-packages (from requests) (1.24.3)\n",
            "Requirement already satisfied: idna<3,>=2.5 in /usr/local/lib/python3.6/dist-packages (from requests) (2.10)\n",
            "Requirement already satisfied: certifi>=2017.4.17 in /usr/local/lib/python3.6/dist-packages (from requests) (2020.6.20)\n",
            "Requirement already satisfied: chardet<4,>=3.0.2 in /usr/local/lib/python3.6/dist-packages (from requests) (3.0.4)\n"
          ],
          "name": "stdout"
        }
      ]
    },
    {
      "cell_type": "code",
      "metadata": {
        "id": "5MY8BHwnEnFM",
        "colab_type": "code",
        "colab": {
          "base_uri": "https://localhost:8080/",
          "height": 54
        },
        "outputId": "1919205b-b7d2-4176-de3c-c8f2e89c0ae0"
      },
      "source": [
        "!pip install pytables\n"
      ],
      "execution_count": 10,
      "outputs": [
        {
          "output_type": "stream",
          "text": [
            "\u001b[31mERROR: Could not find a version that satisfies the requirement pytables (from versions: none)\u001b[0m\n",
            "\u001b[31mERROR: No matching distribution found for pytables\u001b[0m\n"
          ],
          "name": "stdout"
        }
      ]
    },
    {
      "cell_type": "code",
      "metadata": {
        "id": "0-eL4SteE2RD",
        "colab_type": "code",
        "colab": {
          "base_uri": "https://localhost:8080/",
          "height": 1000
        },
        "outputId": "62525f2b-27aa-47ef-e575-a0e1cfbbffdc"
      },
      "source": [
        "# !cd SSR-Net-master/\n",
        "# !sh ./training_and_testing/run_all.sh\n",
        "# ! cat  SSR-Net-master/training_and_testing/run_all.sh\n",
        "# ! sh  SSR-Net-master/training_and_testing/run_all.sh\n",
        "! cd  SSR-Net-master/training_and_testing/; sh run_all.sh "
      ],
      "execution_count": 22,
      "outputs": [
        {
          "output_type": "stream",
          "text": [
            "1\n",
            "2020-08-28 08:08:22.625958: I tensorflow/stream_executor/platform/default/dso_loader.cc:48] Successfully opened dynamic library libcudart.so.10.1\n",
            "Traceback (most recent call last):\n",
            "  File \"TYY_train.py\", line 8, in <module>\n",
            "    from TYY_model import TYY_MobileNet_reg, TYY_DenseNet_reg\n",
            "  File \"/content/drive/My Drive/SSR-Net-master/training_and_testing/TYY_model.py\", line 12, in <module>\n",
            "    from densenet import *\n",
            "  File \"/content/drive/My Drive/SSR-Net-master/training_and_testing/densenet.py\", line 24, in <module>\n",
            "    from keras.applications.imagenet_utils import _obtain_input_shape\n",
            "ImportError: cannot import name '_obtain_input_shape'\n",
            "2020-08-28 08:08:26.426123: I tensorflow/stream_executor/platform/default/dso_loader.cc:48] Successfully opened dynamic library libcudart.so.10.1\n",
            "Traceback (most recent call last):\n",
            "  File \"TYY_train.py\", line 8, in <module>\n",
            "    from TYY_model import TYY_MobileNet_reg, TYY_DenseNet_reg\n",
            "  File \"/content/drive/My Drive/SSR-Net-master/training_and_testing/TYY_model.py\", line 12, in <module>\n",
            "    from densenet import *\n",
            "  File \"/content/drive/My Drive/SSR-Net-master/training_and_testing/densenet.py\", line 24, in <module>\n",
            "    from keras.applications.imagenet_utils import _obtain_input_shape\n",
            "ImportError: cannot import name '_obtain_input_shape'\n",
            "2020-08-28 08:08:29.419581: I tensorflow/stream_executor/platform/default/dso_loader.cc:48] Successfully opened dynamic library libcudart.so.10.1\n",
            "Traceback (most recent call last):\n",
            "  File \"TYY_train.py\", line 8, in <module>\n",
            "    from TYY_model import TYY_MobileNet_reg, TYY_DenseNet_reg\n",
            "  File \"/content/drive/My Drive/SSR-Net-master/training_and_testing/TYY_model.py\", line 12, in <module>\n",
            "    from densenet import *\n",
            "  File \"/content/drive/My Drive/SSR-Net-master/training_and_testing/densenet.py\", line 24, in <module>\n",
            "    from keras.applications.imagenet_utils import _obtain_input_shape\n",
            "ImportError: cannot import name '_obtain_input_shape'\n",
            "2\n",
            "2020-08-28 08:08:32.437027: I tensorflow/stream_executor/platform/default/dso_loader.cc:48] Successfully opened dynamic library libcudart.so.10.1\n",
            "Traceback (most recent call last):\n",
            "  File \"TYY_train.py\", line 8, in <module>\n",
            "    from TYY_model import TYY_MobileNet_reg, TYY_DenseNet_reg\n",
            "  File \"/content/drive/My Drive/SSR-Net-master/training_and_testing/TYY_model.py\", line 12, in <module>\n",
            "    from densenet import *\n",
            "  File \"/content/drive/My Drive/SSR-Net-master/training_and_testing/densenet.py\", line 24, in <module>\n",
            "    from keras.applications.imagenet_utils import _obtain_input_shape\n",
            "ImportError: cannot import name '_obtain_input_shape'\n",
            "2020-08-28 08:08:35.440741: I tensorflow/stream_executor/platform/default/dso_loader.cc:48] Successfully opened dynamic library libcudart.so.10.1\n",
            "Traceback (most recent call last):\n",
            "  File \"TYY_train.py\", line 8, in <module>\n",
            "    from TYY_model import TYY_MobileNet_reg, TYY_DenseNet_reg\n",
            "  File \"/content/drive/My Drive/SSR-Net-master/training_and_testing/TYY_model.py\", line 12, in <module>\n",
            "    from densenet import *\n",
            "  File \"/content/drive/My Drive/SSR-Net-master/training_and_testing/densenet.py\", line 24, in <module>\n",
            "    from keras.applications.imagenet_utils import _obtain_input_shape\n",
            "ImportError: cannot import name '_obtain_input_shape'\n",
            "2020-08-28 08:08:38.435418: I tensorflow/stream_executor/platform/default/dso_loader.cc:48] Successfully opened dynamic library libcudart.so.10.1\n",
            "Traceback (most recent call last):\n",
            "  File \"TYY_train.py\", line 8, in <module>\n",
            "    from TYY_model import TYY_MobileNet_reg, TYY_DenseNet_reg\n",
            "  File \"/content/drive/My Drive/SSR-Net-master/training_and_testing/TYY_model.py\", line 12, in <module>\n",
            "    from densenet import *\n",
            "  File \"/content/drive/My Drive/SSR-Net-master/training_and_testing/densenet.py\", line 24, in <module>\n",
            "    from keras.applications.imagenet_utils import _obtain_input_shape\n",
            "ImportError: cannot import name '_obtain_input_shape'\n",
            "3\n",
            "2020-08-28 08:08:41.399068: I tensorflow/stream_executor/platform/default/dso_loader.cc:48] Successfully opened dynamic library libcudart.so.10.1\n",
            "Traceback (most recent call last):\n",
            "  File \"TYY_train.py\", line 8, in <module>\n",
            "    from TYY_model import TYY_MobileNet_reg, TYY_DenseNet_reg\n",
            "  File \"/content/drive/My Drive/SSR-Net-master/training_and_testing/TYY_model.py\", line 12, in <module>\n",
            "    from densenet import *\n",
            "  File \"/content/drive/My Drive/SSR-Net-master/training_and_testing/densenet.py\", line 24, in <module>\n",
            "    from keras.applications.imagenet_utils import _obtain_input_shape\n",
            "ImportError: cannot import name '_obtain_input_shape'\n",
            "2020-08-28 08:08:44.481172: I tensorflow/stream_executor/platform/default/dso_loader.cc:48] Successfully opened dynamic library libcudart.so.10.1\n",
            "Traceback (most recent call last):\n",
            "  File \"TYY_train.py\", line 8, in <module>\n",
            "    from TYY_model import TYY_MobileNet_reg, TYY_DenseNet_reg\n",
            "  File \"/content/drive/My Drive/SSR-Net-master/training_and_testing/TYY_model.py\", line 12, in <module>\n",
            "    from densenet import *\n",
            "  File \"/content/drive/My Drive/SSR-Net-master/training_and_testing/densenet.py\", line 24, in <module>\n",
            "    from keras.applications.imagenet_utils import _obtain_input_shape\n",
            "ImportError: cannot import name '_obtain_input_shape'\n",
            "2020-08-28 08:08:47.499101: I tensorflow/stream_executor/platform/default/dso_loader.cc:48] Successfully opened dynamic library libcudart.so.10.1\n",
            "Traceback (most recent call last):\n",
            "  File \"TYY_train.py\", line 8, in <module>\n",
            "    from TYY_model import TYY_MobileNet_reg, TYY_DenseNet_reg\n",
            "  File \"/content/drive/My Drive/SSR-Net-master/training_and_testing/TYY_model.py\", line 12, in <module>\n",
            "    from densenet import *\n",
            "  File \"/content/drive/My Drive/SSR-Net-master/training_and_testing/densenet.py\", line 24, in <module>\n",
            "    from keras.applications.imagenet_utils import _obtain_input_shape\n",
            "ImportError: cannot import name '_obtain_input_shape'\n",
            "4\n",
            "2020-08-28 08:08:50.466576: I tensorflow/stream_executor/platform/default/dso_loader.cc:48] Successfully opened dynamic library libcudart.so.10.1\n",
            "Traceback (most recent call last):\n",
            "  File \"TYY_train.py\", line 8, in <module>\n",
            "    from TYY_model import TYY_MobileNet_reg, TYY_DenseNet_reg\n",
            "  File \"/content/drive/My Drive/SSR-Net-master/training_and_testing/TYY_model.py\", line 12, in <module>\n",
            "    from densenet import *\n",
            "  File \"/content/drive/My Drive/SSR-Net-master/training_and_testing/densenet.py\", line 24, in <module>\n",
            "    from keras.applications.imagenet_utils import _obtain_input_shape\n",
            "ImportError: cannot import name '_obtain_input_shape'\n",
            "2020-08-28 08:08:54.174077: I tensorflow/stream_executor/platform/default/dso_loader.cc:48] Successfully opened dynamic library libcudart.so.10.1\n",
            "Traceback (most recent call last):\n",
            "  File \"TYY_train.py\", line 8, in <module>\n",
            "    from TYY_model import TYY_MobileNet_reg, TYY_DenseNet_reg\n",
            "  File \"/content/drive/My Drive/SSR-Net-master/training_and_testing/TYY_model.py\", line 12, in <module>\n",
            "    from densenet import *\n",
            "  File \"/content/drive/My Drive/SSR-Net-master/training_and_testing/densenet.py\", line 24, in <module>\n",
            "    from keras.applications.imagenet_utils import _obtain_input_shape\n",
            "ImportError: cannot import name '_obtain_input_shape'\n",
            "2020-08-28 08:08:57.951557: I tensorflow/stream_executor/platform/default/dso_loader.cc:48] Successfully opened dynamic library libcudart.so.10.1\n",
            "Traceback (most recent call last):\n",
            "  File \"TYY_train.py\", line 8, in <module>\n",
            "    from TYY_model import TYY_MobileNet_reg, TYY_DenseNet_reg\n",
            "  File \"/content/drive/My Drive/SSR-Net-master/training_and_testing/TYY_model.py\", line 12, in <module>\n",
            "    from densenet import *\n",
            "  File \"/content/drive/My Drive/SSR-Net-master/training_and_testing/densenet.py\", line 24, in <module>\n",
            "    from keras.applications.imagenet_utils import _obtain_input_shape\n",
            "ImportError: cannot import name '_obtain_input_shape'\n"
          ],
          "name": "stdout"
        }
      ]
    },
    {
      "cell_type": "code",
      "metadata": {
        "id": "j0B0qzsnHYb2",
        "colab_type": "code",
        "colab": {
          "base_uri": "https://localhost:8080/",
          "height": 435
        },
        "outputId": "a552ad87-05f1-4179-81c6-62a207474b34"
      },
      "source": [
        "!# !cd SSR-Net-master/\n",
        "# !sh ./training_and_testing/run_all.sh\n",
        "# ! cat  SSR-Net-master/training_and_testing/run_all.sh\n",
        "# ! sh  SSR-Net-master/training_and_testing/run_all.sh\n",
        "! cd  SSR-Net-master/data/; python TYY_IMDBWIKI_create_db.py --db imdb --output imdb.npz"
      ],
      "execution_count": 23,
      "outputs": [
        {
          "output_type": "stream",
          "text": [
            "Traceback (most recent call last):\n",
            "  File \"/usr/local/lib/python3.6/dist-packages/scipy/io/matlab/mio.py\", line 39, in _open_file\n",
            "    return open(file_like, mode), True\n",
            "FileNotFoundError: [Errno 2] No such file or directory: './imdb_crop/imdb.mat'\n",
            "\n",
            "During handling of the above exception, another exception occurred:\n",
            "\n",
            "Traceback (most recent call last):\n",
            "  File \"TYY_IMDBWIKI_create_db.py\", line 61, in <module>\n",
            "    main()\n",
            "  File \"TYY_IMDBWIKI_create_db.py\", line 34, in main\n",
            "    full_path, dob, gender, photo_taken, face_score, second_face_score, age = get_meta(mat_path, db)\n",
            "  File \"/content/drive/My Drive/SSR-Net-master/data/TYY_utils.py\", line 17, in get_meta\n",
            "    meta = loadmat(mat_path)\n",
            "  File \"/usr/local/lib/python3.6/dist-packages/scipy/io/matlab/mio.py\", line 216, in loadmat\n",
            "    with _open_file_context(file_name, appendmat) as f:\n",
            "  File \"/usr/lib/python3.6/contextlib.py\", line 81, in __enter__\n",
            "    return next(self.gen)\n",
            "  File \"/usr/local/lib/python3.6/dist-packages/scipy/io/matlab/mio.py\", line 19, in _open_file_context\n",
            "    f, opened = _open_file(file_like, appendmat, mode)\n",
            "  File \"/usr/local/lib/python3.6/dist-packages/scipy/io/matlab/mio.py\", line 45, in _open_file\n",
            "    return open(file_like, mode), True\n",
            "FileNotFoundError: [Errno 2] No such file or directory: './imdb_crop/imdb.mat'\n"
          ],
          "name": "stdout"
        }
      ]
    },
    {
      "cell_type": "code",
      "metadata": {
        "id": "V7H_oCgLIbNC",
        "colab_type": "code",
        "colab": {
          "base_uri": "https://localhost:8080/",
          "height": 783
        },
        "outputId": "1edaae5b-2494-4805-f1c3-4ab8d8e2f6e7"
      },
      "source": [
        "! cd SSR-Net-master/demo ;KERAS_BACKEND=tensorflow CUDA_VISIBLE_DEVICES='' python TYY_demo_mtcnn.py TGOP.mp4"
      ],
      "execution_count": 24,
      "outputs": [
        {
          "output_type": "stream",
          "text": [
            "2020-08-28 08:14:59.272744: I tensorflow/stream_executor/platform/default/dso_loader.cc:48] Successfully opened dynamic library libcudart.so.10.1\n",
            "Imageio: 'ffmpeg-linux64-v3.3.1' was not found on your computer; downloading it now.\n",
            "Try 1. Download from https://github.com/imageio/imageio-binaries/raw/master/ffmpeg/ffmpeg-linux64-v3.3.1 (43.8 MB)\n",
            "Downloading: 8192/45929032 bytes (0.0%)\b\b\b\b\b\b\b\b\b\b\b\b\b\b\b\b\b\b\b\b\b\b\b\b\b\b868352/45929032 bytes (1.9%)\b\b\b\b\b\b\b\b\b\b\b\b\b\b\b\b\b\b\b\b\b\b\b\b\b\b\b\b2523136/45929032 bytes (5.5%)\b\b\b\b\b\b\b\b\b\b\b\b\b\b\b\b\b\b\b\b\b\b\b\b\b\b\b\b\b5029888/45929032 bytes (11.0%)\b\b\b\b\b\b\b\b\b\b\b\b\b\b\b\b\b\b\b\b\b\b\b\b\b\b\b\b\b\b8011776/45929032 bytes (17.4%)\b\b\b\b\b\b\b\b\b\b\b\b\b\b\b\b\b\b\b\b\b\b\b\b\b\b\b\b\b\b11059200/45929032 bytes (24.1%)\b\b\b\b\b\b\b\b\b\b\b\b\b\b\b\b\b\b\b\b\b\b\b\b\b\b\b\b\b\b\b14172160/45929032 bytes (30.9%)\b\b\b\b\b\b\b\b\b\b\b\b\b\b\b\b\b\b\b\b\b\b\b\b\b\b\b\b\b\b\b17514496/45929032 bytes (38.1%)\b\b\b\b\b\b\b\b\b\b\b\b\b\b\b\b\b\b\b\b\b\b\b\b\b\b\b\b\b\b\b20504576/45929032 bytes (44.6%)\b\b\b\b\b\b\b\b\b\b\b\b\b\b\b\b\b\b\b\b\b\b\b\b\b\b\b\b\b\b\b23805952/45929032 bytes (51.8%)\b\b\b\b\b\b\b\b\b\b\b\b\b\b\b\b\b\b\b\b\b\b\b\b\b\b\b\b\b\b\b26853376/45929032 bytes (58.5%)\b\b\b\b\b\b\b\b\b\b\b\b\b\b\b\b\b\b\b\b\b\b\b\b\b\b\b\b\b\b\b29917184/45929032 bytes (65.1%)\b\b\b\b\b\b\b\b\b\b\b\b\b\b\b\b\b\b\b\b\b\b\b\b\b\b\b\b\b\b\b33226752/45929032 bytes (72.3%)\b\b\b\b\b\b\b\b\b\b\b\b\b\b\b\b\b\b\b\b\b\b\b\b\b\b\b\b\b\b\b36478976/45929032 bytes (79.4%)\b\b\b\b\b\b\b\b\b\b\b\b\b\b\b\b\b\b\b\b\b\b\b\b\b\b\b\b\b\b\b39624704/45929032 bytes (86.3%)\b\b\b\b\b\b\b\b\b\b\b\b\b\b\b\b\b\b\b\b\b\b\b\b\b\b\b\b\b\b\b42385408/45929032 bytes (92.3%)\b\b\b\b\b\b\b\b\b\b\b\b\b\b\b\b\b\b\b\b\b\b\b\b\b\b\b\b\b\b\b45178880/45929032 bytes (98.4%)\b\b\b\b\b\b\b\b\b\b\b\b\b\b\b\b\b\b\b\b\b\b\b\b\b\b\b\b\b\b\b45929032/45929032 bytes (100.0%)\n",
            "  Done\n",
            "File saved as /root/.imageio/ffmpeg/ffmpeg-linux64-v3.3.1.\n",
            "pygame 1.9.6\n",
            "Hello from the pygame community. https://www.pygame.org/contribute.html\n",
            "ALSA lib confmisc.c:767:(parse_card) cannot find card '0'\n",
            "ALSA lib conf.c:4528:(_snd_config_evaluate) function snd_func_card_driver returned error: No such file or directory\n",
            "ALSA lib confmisc.c:392:(snd_func_concat) error evaluating strings\n",
            "ALSA lib conf.c:4528:(_snd_config_evaluate) function snd_func_concat returned error: No such file or directory\n",
            "ALSA lib confmisc.c:1246:(snd_func_refer) error evaluating name\n",
            "ALSA lib conf.c:4528:(_snd_config_evaluate) function snd_func_refer returned error: No such file or directory\n",
            "ALSA lib conf.c:5007:(snd_config_expand) Evaluate error: No such file or directory\n",
            "ALSA lib pcm.c:2495:(snd_pcm_open_noupdate) Unknown PCM default\n",
            "ALSA lib confmisc.c:767:(parse_card) cannot find card '0'\n",
            "ALSA lib conf.c:4528:(_snd_config_evaluate) function snd_func_card_driver returned error: No such file or directory\n",
            "ALSA lib confmisc.c:392:(snd_func_concat) error evaluating strings\n",
            "ALSA lib conf.c:4528:(_snd_config_evaluate) function snd_func_concat returned error: No such file or directory\n",
            "ALSA lib confmisc.c:1246:(snd_func_refer) error evaluating name\n",
            "ALSA lib conf.c:4528:(_snd_config_evaluate) function snd_func_refer returned error: No such file or directory\n",
            "ALSA lib conf.c:5007:(snd_config_expand) Evaluate error: No such file or directory\n",
            "ALSA lib pcm.c:2495:(snd_pcm_open_noupdate) Unknown PCM default\n",
            "WARNING:tensorflow:From TYY_demo_mtcnn.py:22: set_learning_phase (from tensorflow.python.keras.backend) is deprecated and will be removed after 2020-10-11.\n",
            "Instructions for updating:\n",
            "Simply pass a True/False value to the `training` argument of the `__call__` method of your layer or model.\n",
            "2020-08-28 08:15:04.039441: I tensorflow/stream_executor/platform/default/dso_loader.cc:48] Successfully opened dynamic library libcuda.so.1\n",
            "2020-08-28 08:15:04.103128: E tensorflow/stream_executor/cuda/cuda_driver.cc:314] failed call to cuInit: CUDA_ERROR_NO_DEVICE: no CUDA-capable device is detected\n",
            "2020-08-28 08:15:04.103250: I tensorflow/stream_executor/cuda/cuda_diagnostics.cc:156] kernel driver does not appear to be running on this host (16045218bbde): /proc/driver/nvidia/version does not exist\n",
            "2020-08-28 08:15:04.120900: I tensorflow/core/platform/profile_utils/cpu_utils.cc:104] CPU Frequency: 2300000000 Hz\n",
            "2020-08-28 08:15:04.121333: I tensorflow/compiler/xla/service/service.cc:168] XLA service 0x61ce000 initialized for platform Host (this does not guarantee that XLA will be used). Devices:\n",
            "2020-08-28 08:15:04.121379: I tensorflow/compiler/xla/service/service.cc:176]   StreamExecutor device (0): Host, Default Version\n",
            "Traceback (most recent call last):\n",
            "  File \"TYY_demo_mtcnn.py\", line 174, in <module>\n",
            "    main()\n",
            "  File \"TYY_demo_mtcnn.py\", line 37, in main\n",
            "    model = SSR_net(img_size,stage_num, lambda_local, lambda_d)()\n",
            "  File \"/content/drive/My Drive/SSR-Net-master/demo/SSRNET_model.py\", line 22, in __init__\n",
            "    if K.image_dim_ordering() == \"th\":\n",
            "AttributeError: module 'keras.backend' has no attribute 'image_dim_ordering'\n"
          ],
          "name": "stdout"
        }
      ]
    }
  ]
}